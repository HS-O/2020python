{
  "nbformat": 4,
  "nbformat_minor": 0,
  "metadata": {
    "colab": {
      "name": "Copy of Copy of 2020 Python Programming Practical 1.ipynb",
      "provenance": [],
      "collapsed_sections": [],
      "include_colab_link": true
    },
    "kernelspec": {
      "name": "python3",
      "display_name": "Python 3"
    }
  },
  "cells": [
    {
      "cell_type": "markdown",
      "metadata": {
        "id": "view-in-github",
        "colab_type": "text"
      },
      "source": [
        "<a href=\"https://colab.research.google.com/github/HS-O/2020python/blob/master/Copy_of_Copy_of_2020_Python_Programming_Practical_1.ipynb\" target=\"_parent\"><img src=\"https://colab.research.google.com/assets/colab-badge.svg\" alt=\"Open In Colab\"/></a>"
      ]
    },
    {
      "cell_type": "markdown",
      "metadata": {
        "id": "jp3BkDml8xiR",
        "colab_type": "text"
      },
      "source": [
        "# **2020 Python Programming Practical 1**\n",
        "\n",
        "If you do not have one already, create a [GitHub](https://github.com) account using your DHS Mail.\n",
        "\n",
        "Create a public repository 2020python\n",
        "\n",
        "File --> Save a copy in GitHub under this repository\n",
        "\n",
        "Share with edit access with computing@dhs.sg\n",
        "\n",
        "\n",
        "For the following questions,\n",
        "\n",
        "*   standard input: keyboard\n",
        "*   standard output: screen\n",
        "\n"
      ]
    },
    {
      "cell_type": "markdown",
      "metadata": {
        "id": "-U8w0oQW9P_b",
        "colab_type": "text"
      },
      "source": [
        "**Q1. (Converting Fahrenheit to Celsius)**\n",
        "\n",
        "Write a program that reads a Fahrenheit degree as a float from standard input, then converts it to Celsius and displays the result in standard output. The formula for the conversion is:\n",
        "```\n",
        "celsius = (5/9) * (fahrenheit - 32)\n",
        "```"
      ]
    },
    {
      "cell_type": "code",
      "metadata": {
        "id": "D0uTR7B-8qbF",
        "colab_type": "code",
        "outputId": "6da27b49-c861-4a1c-dc83-894561fb29ba",
        "colab": {
          "base_uri": "https://localhost:8080/",
          "height": 51
        }
      },
      "source": [
        "F = float(input(\"give me your Fahrenheit degree\"))\n",
        "C = (5/9) * (F - 32)\n",
        "\n",
        "print(f\"{C:.2f}\") "
      ],
      "execution_count": 0,
      "outputs": [
        {
          "output_type": "stream",
          "text": [
            "give me your Fahrenheit degree233.4\n",
            "111.89\n"
          ],
          "name": "stdout"
        }
      ]
    },
    {
      "cell_type": "markdown",
      "metadata": {
        "id": "7Ui5CuS_9Za1",
        "colab_type": "text"
      },
      "source": [
        "**Q2. (Computing the volume of a cylinder)**\n",
        "\n",
        "Write a program that reads in the radius and length of a cylinder and computes its volume using the formulae:\n",
        "```\n",
        "area = radius * radius * pi\n",
        "volume = area * length\n",
        "```\n",
        "\n",
        "\n"
      ]
    },
    {
      "cell_type": "code",
      "metadata": {
        "id": "CfkRAAWV9cXS",
        "colab_type": "code",
        "outputId": "1015365f-3d06-4eac-f87f-d03d3a213491",
        "colab": {
          "base_uri": "https://localhost:8080/",
          "height": 68
        }
      },
      "source": [
        "r = float(input(\"please give me the radius\"))\n",
        "h = float(input(\"please give me height\"))\n",
        "import math\n",
        "a = r * r * (math.pi)\n",
        "v = a * h\n",
        "print(f\"{v:.2f}\")"
      ],
      "execution_count": 0,
      "outputs": [
        {
          "output_type": "stream",
          "text": [
            "please give me the radius23\n",
            "please give me height23\n",
            "38223.76\n"
          ],
          "name": "stdout"
        }
      ]
    },
    {
      "cell_type": "markdown",
      "metadata": {
        "id": "aVhHiT8w9c7d",
        "colab_type": "text"
      },
      "source": [
        "**Q3. (Converting miles into kilometers)**\n",
        "\n",
        "Write a program that reads a number in miles, converts it to kilometres, and outputs the result. One mile is 1.60934 kilometres. Display your answer correct to 3 decimal places."
      ]
    },
    {
      "cell_type": "code",
      "metadata": {
        "id": "PwRmweEa9fny",
        "colab_type": "code",
        "outputId": "d3f19e97-050a-4a18-84a3-07620f25b0dc",
        "colab": {
          "base_uri": "https://localhost:8080/",
          "height": 51
        }
      },
      "source": [
        "num = float(input(\"give me a number in miles \"))\n",
        "km = num / 1.60934\n",
        "print(f\"{km:.3f}\")"
      ],
      "execution_count": 0,
      "outputs": [
        {
          "output_type": "stream",
          "text": [
            "give me a number in miles 23.3\n",
            "14.478\n"
          ],
          "name": "stdout"
        }
      ]
    },
    {
      "cell_type": "markdown",
      "metadata": {
        "id": "GwAIqQNY9gFd",
        "colab_type": "text"
      },
      "source": [
        "**Q4. (Summing the digits in an integer)**\n",
        "\n",
        "Write a program that reads an integer between 0 and 1000 and adds all the digits in the integer. For example, if an integer is 932, the sum of all its digits is 14.\n",
        "\n",
        "Hint: Use the % operator to extract digits, and use the // operator to remove the extracted digit. For instance, 932 % 10 = 2 and 932 // 10 = 93"
      ]
    },
    {
      "cell_type": "code",
      "metadata": {
        "id": "aOozTwoR9j9B",
        "colab_type": "code",
        "outputId": "c77a869b-4d66-4e82-cf92-a17a1a0cf303",
        "colab": {
          "base_uri": "https://localhost:8080/",
          "height": 51
        }
      },
      "source": [
        "num = int(input(\"give me a number\"))\n",
        "a = num // 10\n",
        "b = num % 10\n",
        "print(a + b)"
      ],
      "execution_count": 0,
      "outputs": [
        {
          "output_type": "stream",
          "text": [
            "give me a number234\n",
            "27\n"
          ],
          "name": "stdout"
        }
      ]
    },
    {
      "cell_type": "markdown",
      "metadata": {
        "id": "lE0ScX9e9kcg",
        "colab_type": "text"
      },
      "source": [
        "**Q5. (Converting an uppercase letter to lowercase)**\n",
        "\n",
        "Write a program that converts an uppercase letter from standard input to a lowercase letter by making use of its ASCII value.\n",
        "\n",
        "http://www.asciitable.com"
      ]
    },
    {
      "cell_type": "code",
      "metadata": {
        "id": "sE_bxwDs9mf6",
        "colab_type": "code",
        "outputId": "7ee534c5-73eb-47e4-9a87-6c3afc3a4e95",
        "colab": {
          "base_uri": "https://localhost:8080/",
          "height": 51
        }
      },
      "source": [
        "upper = input(\"give me a uppercase letter\")\n",
        "lower = ord(upper) + 32\n",
        "print(chr(lower))"
      ],
      "execution_count": 0,
      "outputs": [
        {
          "output_type": "stream",
          "text": [
            "give me a uppercase letterE\n",
            "e\n"
          ],
          "name": "stdout"
        }
      ]
    },
    {
      "cell_type": "markdown",
      "metadata": {
        "id": "KSviQY0T9m7Q",
        "colab_type": "text"
      },
      "source": [
        "**Q6. (Finding the character of an ASCII code)**\n",
        "\n",
        "Write a program that receives an ASCII value (an integer between 0 and 127) and displays its character. For example, if the user enters 97, the program displays character a.\n",
        "\n",
        "http://www.asciitable.com"
      ]
    },
    {
      "cell_type": "code",
      "metadata": {
        "id": "YbH9Pbul9rK-",
        "colab_type": "code",
        "colab": {}
      },
      "source": [
        "number = int(input(\"give me a number between 0 and 127\"))\n",
        "print(chr(number))"
      ],
      "execution_count": 0,
      "outputs": []
    },
    {
      "cell_type": "markdown",
      "metadata": {
        "id": "V9Z95nlg97e4",
        "colab_type": "text"
      },
      "source": [
        "**Q7. (Payroll)**\n",
        "\n",
        "Write a program that reads in the following information and prints a payroll statement. A sample input and output session is as follows:\n",
        "\n",
        "Sample input:\n",
        "```\n",
        "Enter name: Lim Ah Seng\n",
        "Enter number of hours worked weekly: 10\n",
        "Enter hourly pay rate: 6.75\n",
        "Enter CPF contribution rate(%): 20\n",
        "```\n",
        "\n",
        "Sample output:\n",
        "```\n",
        "Payroll statement for Lim Ah Seng\n",
        "Number of hours worked in week: 10\n",
        "Hourly pay rate: $6.75\n",
        "Gross pay = $67.50\n",
        "CPF contribution at 20% = $13.50\n",
        "Net pay = $54.00\n",
        "```\n",
        "\n"
      ]
    },
    {
      "cell_type": "code",
      "metadata": {
        "id": "1AZvvAW499PK",
        "colab_type": "code",
        "outputId": "b8b92322-b688-4267-f178-87d50d213e0b",
        "colab": {
          "base_uri": "https://localhost:8080/",
          "height": 187
        }
      },
      "source": [
        "name = input(\"enter your name:\")\n",
        "hours_work = int(input(\"enter your hours worked weekly =\"))\n",
        "pay_rate = float(input(\"enter your hourly pay rate =\"))\n",
        "contribution_rate = float(input(\"Enter your CPF contribution rate in % =\"))\n",
        "\n",
        "gp = hours_work * pay_rate \n",
        "cpf_c = contribution_rate * pay_rate\n",
        "np = gp - cpf_c\n",
        "\n",
        "print(\"Payroll statement for\", name)\n",
        "print(\"Number of hours worked in week:\", hours_work)\n",
        "print(\"Hourly pay rate:\",\"$\",pay_rate)\n",
        "print(\"gross pay =\",\"$\",f\"{gp:.2f}\")\n",
        "print(\"CPF contribution at\", contribution_rate,\"% = $\",f\"{cpf_c:.2f}\")\n",
        "print(\"Net pay = \",\"$\",f\"{np:.2f}\")"
      ],
      "execution_count": 0,
      "outputs": [
        {
          "output_type": "stream",
          "text": [
            "enter your name:LIU\n",
            "enter your hours worked weekly =78\n",
            "enter your hourly pay rate =3.8\n",
            "Enter your CPF contribution rate in % =30\n",
            "Payroll statement for LIU\n",
            "Number of hours worked in week: 78\n",
            "Hourly pay rate: $ 3.8\n",
            "gross pay = $ 296.40\n",
            "CPF contribution at 30.0 % = $ 114.00\n",
            "Net pay =  $ 182.40\n"
          ],
          "name": "stdout"
        }
      ]
    }
  ]
}